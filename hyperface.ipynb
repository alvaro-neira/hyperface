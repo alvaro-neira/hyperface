{
  "nbformat": 4,
  "nbformat_minor": 0,
  "metadata": {
    "colab": {
      "name": "hyperface.ipynb",
      "provenance": [],
      "machine_shape": "hm",
      "collapsed_sections": []
    },
    "kernelspec": {
      "name": "python3",
      "display_name": "Python 3"
    },
    "language_info": {
      "name": "python"
    },
    "accelerator": "GPU"
  },
  "cells": [
    {
      "cell_type": "code",
      "execution_count": 1,
      "metadata": {
        "colab": {
          "base_uri": "https://localhost:8080/"
        },
        "id": "ZlZAJWShOWLP",
        "outputId": "917b5f5d-c6f7-43d6-bf4a-575cc0623458"
      },
      "outputs": [
        {
          "output_type": "stream",
          "name": "stdout",
          "text": [
            "Collecting chainer==7.7.0\n",
            "  Downloading chainer-7.7.0.tar.gz (11.2 MB)\n",
            "\u001b[K     |████████████████████████████████| 11.2 MB 3.6 MB/s \n",
            "\u001b[?25hRequirement already satisfied: setuptools in /usr/local/lib/python3.7/dist-packages (from chainer==7.7.0) (57.4.0)\n",
            "Requirement already satisfied: typing_extensions in /usr/local/lib/python3.7/dist-packages (from chainer==7.7.0) (3.10.0.2)\n",
            "Requirement already satisfied: filelock in /usr/local/lib/python3.7/dist-packages (from chainer==7.7.0) (3.4.2)\n",
            "Requirement already satisfied: numpy>=1.9.0 in /usr/local/lib/python3.7/dist-packages (from chainer==7.7.0) (1.19.5)\n",
            "Requirement already satisfied: protobuf>=3.0.0 in /usr/local/lib/python3.7/dist-packages (from chainer==7.7.0) (3.17.3)\n",
            "Requirement already satisfied: six>=1.9.0 in /usr/local/lib/python3.7/dist-packages (from chainer==7.7.0) (1.15.0)\n",
            "Building wheels for collected packages: chainer\n",
            "  Building wheel for chainer (setup.py) ... \u001b[?25l\u001b[?25hdone\n",
            "  Created wheel for chainer: filename=chainer-7.7.0-py3-none-any.whl size=967522 sha256=6ae64e1a7dce7497652925338dfa55f91425fb4c3af1d2ce6d9d26ce1eea97c1\n",
            "  Stored in directory: /root/.cache/pip/wheels/4f/c2/ca/e46a1181cc92ebe6e2d117a5cd29da5bcfc8464e00edb2cac0\n",
            "Successfully built chainer\n",
            "Installing collected packages: chainer\n",
            "Successfully installed chainer-7.7.0\n"
          ]
        }
      ],
      "source": [
        "!pip install chainer==7.7.0"
      ]
    },
    {
      "cell_type": "code",
      "source": [
        "import chainer"
      ],
      "metadata": {
        "id": "C93GXCDyOxmA"
      },
      "execution_count": 2,
      "outputs": []
    },
    {
      "cell_type": "code",
      "source": [
        "import cv2\n",
        "import csv\n",
        "import os\n",
        "import matplotlib.pyplot as plt\n",
        "from google.colab.patches import cv2_imshow # for image display\n",
        "import numpy as np\n",
        "import pandas as pd\n",
        "from skimage import io\n",
        "from PIL import Image "
      ],
      "metadata": {
        "id": "sQeGoB9yPL0-"
      },
      "execution_count": 3,
      "outputs": []
    },
    {
      "cell_type": "code",
      "source": [
        "from google.colab import drive\n",
        "drive.mount('/content/drive', force_remount=True)"
      ],
      "metadata": {
        "colab": {
          "base_uri": "https://localhost:8080/"
        },
        "id": "hQnkAPqPPhrF",
        "outputId": "09a2ddb5-572b-4ac0-b5a5-5e92a2650ca5"
      },
      "execution_count": 4,
      "outputs": [
        {
          "output_type": "stream",
          "name": "stdout",
          "text": [
            "Mounted at /content/drive\n"
          ]
        }
      ]
    },
    {
      "cell_type": "code",
      "source": [
        "%cd /content/\n",
        "!rm -rf hyperface\n",
        "!git clone https://github.com/alvaro-neira/hyperface.git --branch colab\n",
        "%cd hyperface/\n",
        "!git fetch --all\n",
        "!git pull origin colab\n"
      ],
      "metadata": {
        "colab": {
          "base_uri": "https://localhost:8080/"
        },
        "id": "JWuS35aWPzhq",
        "outputId": "95c377b9-c2df-40ac-bbbb-99fe6d095cd5"
      },
      "execution_count": 6,
      "outputs": [
        {
          "output_type": "stream",
          "name": "stdout",
          "text": [
            "/content\n",
            "Cloning into 'hyperface'...\n",
            "remote: Enumerating objects: 270, done.\u001b[K\n",
            "remote: Counting objects: 100% (52/52), done.\u001b[K\n",
            "remote: Compressing objects: 100% (37/37), done.\u001b[K\n",
            "remote: Total 270 (delta 31), reused 33 (delta 14), pack-reused 218\u001b[K\n",
            "Receiving objects: 100% (270/270), 8.33 MiB | 15.42 MiB/s, done.\n",
            "Resolving deltas: 100% (158/158), done.\n",
            "/content/hyperface\n",
            "Fetching origin\n",
            "From https://github.com/alvaro-neira/hyperface\n",
            " * branch            colab      -> FETCH_HEAD\n",
            "Already up to date.\n"
          ]
        }
      ]
    },
    {
      "cell_type": "code",
      "source": [
        "%cd /content/hyperface/scripts"
      ],
      "metadata": {
        "colab": {
          "base_uri": "https://localhost:8080/"
        },
        "id": "kQwgRqw6QFRd",
        "outputId": "dc602f64-03b0-47e2-b4aa-8ec4f913a117"
      },
      "execution_count": 7,
      "outputs": [
        {
          "output_type": "stream",
          "name": "stdout",
          "text": [
            "/content/hyperface/scripts\n"
          ]
        }
      ]
    },
    {
      "cell_type": "code",
      "source": [
        "pre_trained = '/content/drive/MyDrive/ai/model_epoch_190'"
      ],
      "metadata": {
        "id": "kFwXgJ-j6QIU"
      },
      "execution_count": 16,
      "outputs": []
    },
    {
      "cell_type": "code",
      "source": [
        "import chainer\n",
        "\n",
        "import cv2\n",
        "import os\n",
        "import numpy as np\n",
        "\n",
        "import config\n",
        "\n",
        "# Disable type check in chainer\n",
        "import models\n",
        "\n",
        "os.environ[\"CHAINER_TYPE_CHECK\"] = \"0\"\n",
        "\n",
        "\n",
        "def _cvt_variable(v):\n",
        "    # Convert from chainer variable\n",
        "    if isinstance(v, chainer.variable.Variable):\n",
        "        v = v.data\n",
        "        if hasattr(v, 'get'):\n",
        "            v = v.get()\n",
        "    return v\n",
        "\n",
        "\n",
        "def short_hyperface(config_path, img_path, model_path):\n",
        "    # Load config\n",
        "    config.load(config_path)\n",
        "\n",
        "    # Define a model\n",
        "    model = models.HyperFaceModel()\n",
        "    model.train = False\n",
        "    model.report = False\n",
        "    model.backward = False\n",
        "\n",
        "    # Initialize model\n",
        "    chainer.serializers.load_npz(model_path, model)\n",
        "\n",
        "    # Setup GPU\n",
        "    if config.gpu >= 0:\n",
        "        chainer.cuda.check_cuda_available()\n",
        "        chainer.cuda.get_device(config.gpu).use()\n",
        "        model.to_gpu()\n",
        "        xp = chainer.cuda.cupy\n",
        "    else:\n",
        "        xp = np\n",
        "\n",
        "    # Load image file\n",
        "    img = cv2.imread(img_path)\n",
        "    if img is None or img.size == 0 or img.shape[0] == 0 or img.shape[1] == 0:\n",
        "        exit()\n",
        "    img = img.astype(np.float32) / 255.0  # [0:1]\n",
        "    img = cv2.resize(img, models.IMG_SIZE)\n",
        "    img = cv2.normalize(img, None, -0.5, 0.5, cv2.NORM_MINMAX)\n",
        "    img = np.transpose(img, (2, 0, 1))\n",
        "\n",
        "    # Create single batch\n",
        "    imgs = xp.asarray([img])\n",
        "    x = chainer.Variable(imgs)  # , volatile=True)\n",
        "\n",
        "    # Forward\n",
        "    y = model(x)\n",
        "\n",
        "    # Chainer.Variable -> np.ndarray\n",
        "    detection = _cvt_variable(y['detection'])\n",
        "    genders = _cvt_variable(y['gender'])\n",
        "\n",
        "    gender = genders[0]\n",
        "\n",
        "    if gender > 0.5:\n",
        "        return f\"Female, detection={detection[0]}\"\n",
        "    else:\n",
        "        return f\"Male, detection={detection[0]}\""
      ],
      "metadata": {
        "id": "2Qc98zu-QQBH"
      },
      "execution_count": 8,
      "outputs": []
    },
    {
      "cell_type": "code",
      "source": [
        "print(short_hyperface('/content/hyperface/scripts/config.json','/content/drive/MyDrive/ai/faces1/tv24horas_2021_12_07_01_face1.png',pre_trained))"
      ],
      "metadata": {
        "id": "WuGpBmQ8QWGo",
        "colab": {
          "base_uri": "https://localhost:8080/"
        },
        "outputId": "f5133cbd-7d63-408d-9aa1-bedc3a588e88"
      },
      "execution_count": 17,
      "outputs": [
        {
          "output_type": "stream",
          "name": "stderr",
          "text": [
            "[2022/01/13 05:31:07] INFO (82) config : Load config from \"/content/hyperface/scripts/config.json\"\n",
            "[2022/01/13 05:31:07] ERROR (82) config : Conflict in config with key \"aflw_sqlite_path\"\n",
            "[2022/01/13 05:31:07] ERROR (82) config : Conflict in config with key \"aflw_imgdir_path\"\n",
            "[2022/01/13 05:31:07] ERROR (82) config : Conflict in config with key \"aflw_cache_path\"\n",
            "[2022/01/13 05:31:07] ERROR (82) config : Conflict in config with key \"aflw_test_rate\"\n",
            "[2022/01/13 05:31:07] ERROR (82) config : Conflict in config with key \"alexnet_caffemodel_path\"\n",
            "[2022/01/13 05:31:07] ERROR (82) config : Conflict in config with key \"gpu\"\n",
            "[2022/01/13 05:31:07] ERROR (82) config : Conflict in config with key \"n_loaders_train\"\n",
            "[2022/01/13 05:31:07] ERROR (82) config : Conflict in config with key \"n_loaders_test\"\n",
            "[2022/01/13 05:31:07] ERROR (82) config : Conflict in config with key \"n_epoch\"\n",
            "[2022/01/13 05:31:07] ERROR (82) config : Conflict in config with key \"batchsize\"\n",
            "[2022/01/13 05:31:07] ERROR (82) config : Conflict in config with key \"port_face\"\n",
            "[2022/01/13 05:31:07] ERROR (82) config : Conflict in config with key \"port_weight\"\n",
            "[2022/01/13 05:31:07] ERROR (82) config : Conflict in config with key \"port_lossgraph\"\n",
            "[2022/01/13 05:31:07] ERROR (82) config : Conflict in config with key \"port_evaluate\"\n",
            "[2022/01/13 05:31:07] ERROR (82) config : Conflict in config with key \"port_demo\"\n",
            "[2022/01/13 05:31:07] ERROR (82) config : Conflict in config with key \"outdir\"\n",
            "[2022/01/13 05:31:07] ERROR (82) config : Conflict in config with key \"outdir_pretrain\"\n"
          ]
        },
        {
          "output_type": "stream",
          "name": "stdout",
          "text": [
            "Male, detection=0.9749955534934998\n"
          ]
        }
      ]
    },
    {
      "cell_type": "code",
      "source": [
        "%cd /content/hyperface/scripts"
      ],
      "metadata": {
        "colab": {
          "base_uri": "https://localhost:8080/"
        },
        "id": "GCcH97NZ39Jf",
        "outputId": "517f542b-49fb-47ae-b41f-3939dd600cda"
      },
      "execution_count": 18,
      "outputs": [
        {
          "output_type": "stream",
          "name": "stdout",
          "text": [
            "/content/hyperface/scripts\n"
          ]
        }
      ]
    },
    {
      "cell_type": "code",
      "source": [
        "import chainer\n",
        "\n",
        "import cv2\n",
        "import os\n",
        "import numpy as np\n",
        "\n",
        "import config\n",
        "from drawing import draw_pose, draw_gender, draw_detection, draw_landmark\n",
        "import log_initializer\n",
        "import models\n",
        "\n",
        "# logging\n",
        "from logging import getLogger, DEBUG\n",
        "\n",
        "log_initializer.setFmt()\n",
        "log_initializer.setRootLevel(DEBUG)\n",
        "logger = getLogger(__name__)\n",
        "\n",
        "# Disable type check in chainer\n",
        "os.environ[\"CHAINER_TYPE_CHECK\"] = \"0\"\n",
        "\n",
        "\n",
        "def _cvt_variable(v):\n",
        "    # Convert from chainer variable\n",
        "    if isinstance(v, chainer.variable.Variable):\n",
        "        v = v.data\n",
        "        if hasattr(v, 'get'):\n",
        "            v = v.get()\n",
        "    return v\n",
        "\n",
        "\n",
        "def frame_detect(img):\n",
        "    # Load config\n",
        "    config.load('config.json')\n",
        "\n",
        "    # Define a model\n",
        "    logger.info('Define a HyperFace model')\n",
        "    model = models.HyperFaceModel()\n",
        "    model.train = False\n",
        "    model.report = False\n",
        "    model.backward = False\n",
        "\n",
        "    # Initialize model\n",
        "    chainer.serializers.load_npz(pre_trained, model)\n",
        "\n",
        "    xp = np\n",
        "\n",
        "    if img is None or img.size == 0 or img.shape[0] == 0 or img.shape[1] == 0:\n",
        "        logger.error('Failed to load')\n",
        "        exit()\n",
        "    frame = img.copy()\n",
        "    frame = frame.astype(np.float32) / 255.0  # [0:1]\n",
        "    frame = cv2.resize(frame, models.IMG_SIZE)\n",
        "    frame = cv2.normalize(frame, None, -0.5, 0.5, cv2.NORM_MINMAX)\n",
        "    frame = np.transpose(frame, (2, 0, 1))\n",
        "\n",
        "    # Create single batch\n",
        "    imgs = xp.asarray([frame])\n",
        "    x = chainer.Variable(imgs)  # , volatile=True)\n",
        "\n",
        "    y = model(x)\n",
        "\n",
        "    # Chainer.Variable -> np.ndarray\n",
        "    imgs = _cvt_variable(y['img'])\n",
        "    detections = _cvt_variable(y['detection'])\n",
        "    landmarks = _cvt_variable(y['landmark'])\n",
        "    visibilities = _cvt_variable(y['visibility'])\n",
        "    poses = _cvt_variable(y['pose'])\n",
        "    genders = _cvt_variable(y['gender'])\n",
        "\n",
        "    # Use first data in one batch\n",
        "    frame = imgs[0]\n",
        "    detection = detections[0]\n",
        "    landmark = landmarks[0]\n",
        "    visibility = visibilities[0]\n",
        "    pose = poses[0]\n",
        "    gender = genders[0]\n",
        "\n",
        "    frame = np.transpose(frame, (1, 2, 0))\n",
        "    frame = frame.copy()\n",
        "    frame += 0.5  # [-0.5:0.5] -> [0:1]\n",
        "    detection = (detection > 0.5)\n",
        "    gender = (gender > 0.5)\n",
        "\n",
        "    # Draw results\n",
        "    draw_detection(frame, detection)\n",
        "    landmark_color = (0, 1, 0) if detection == 1 else (0, 0, 1)\n",
        "    draw_landmark(frame, landmark, visibility, landmark_color, 0.5)\n",
        "    draw_pose(frame, pose)\n",
        "    draw_gender(frame, gender)\n",
        "\n",
        "    return frame"
      ],
      "metadata": {
        "id": "OUUOeo_J6IDg"
      },
      "execution_count": 19,
      "outputs": []
    },
    {
      "cell_type": "code",
      "source": [
        "%cd /content/hyperface/"
      ],
      "metadata": {
        "colab": {
          "base_uri": "https://localhost:8080/"
        },
        "id": "1DD1fUAozSxg",
        "outputId": "6c2ae7b2-9486-4910-93be-598a4344fb96"
      },
      "execution_count": 20,
      "outputs": [
        {
          "output_type": "stream",
          "name": "stdout",
          "text": [
            "/content/hyperface\n"
          ]
        }
      ]
    },
    {
      "cell_type": "code",
      "source": [
        "for filename in os.listdir(\"/content/drive/MyDrive/ai/faces\"):\n",
        "    if not filename.endswith(\".png\"): \n",
        "        continue\n",
        "    img_path = os.path.join(\"/content/drive/MyDrive/ai/faces\", filename)\n",
        "    image_swapped = io.imread(f\"{img_path}\") \n",
        "    image_2 = cv2.cvtColor(image_swapped, cv2.COLOR_BGR2RGB)\n",
        "    image3 = frame_detect(image_2)\n",
        "    cv2_imshow(image3)\n",
        "    print(filename)\n",
        "    print('\\n\\n') "
      ],
      "metadata": {
        "id": "rR75WAlDQear",
        "colab": {
          "base_uri": "https://localhost:8080/",
          "height": 1000
        },
        "outputId": "f42fc5bd-1633-44e0-ebae-49f765777c1d"
      },
      "execution_count": 21,
      "outputs": [
        {
          "output_type": "stream",
          "name": "stderr",
          "text": [
            "[2022/01/13 05:33:22] DEBUG (82) PIL.PngImagePlugin : STREAM b'IHDR' 16 13\n",
            "[2022/01/13 05:33:22] DEBUG (82) PIL.PngImagePlugin : STREAM b'IDAT' 41 8192\n",
            "[2022/01/13 05:33:22] INFO (82) config : Load config from \"config.json\"\n",
            "[2022/01/13 05:33:22] ERROR (82) config : Conflict in config with key \"aflw_sqlite_path\"\n",
            "[2022/01/13 05:33:22] ERROR (82) config : Conflict in config with key \"aflw_imgdir_path\"\n",
            "[2022/01/13 05:33:22] ERROR (82) config : Conflict in config with key \"aflw_cache_path\"\n",
            "[2022/01/13 05:33:22] ERROR (82) config : Conflict in config with key \"aflw_test_rate\"\n",
            "[2022/01/13 05:33:22] ERROR (82) config : Conflict in config with key \"alexnet_caffemodel_path\"\n",
            "[2022/01/13 05:33:22] ERROR (82) config : Conflict in config with key \"gpu\"\n",
            "[2022/01/13 05:33:22] ERROR (82) config : Conflict in config with key \"n_loaders_train\"\n",
            "[2022/01/13 05:33:22] ERROR (82) config : Conflict in config with key \"n_loaders_test\"\n",
            "[2022/01/13 05:33:22] ERROR (82) config : Conflict in config with key \"n_epoch\"\n",
            "[2022/01/13 05:33:22] ERROR (82) config : Conflict in config with key \"batchsize\"\n",
            "[2022/01/13 05:33:22] ERROR (82) config : Conflict in config with key \"port_face\"\n",
            "[2022/01/13 05:33:22] ERROR (82) config : Conflict in config with key \"port_weight\"\n",
            "[2022/01/13 05:33:22] ERROR (82) config : Conflict in config with key \"port_lossgraph\"\n",
            "[2022/01/13 05:33:22] ERROR (82) config : Conflict in config with key \"port_evaluate\"\n",
            "[2022/01/13 05:33:22] ERROR (82) config : Conflict in config with key \"port_demo\"\n",
            "[2022/01/13 05:33:22] ERROR (82) config : Conflict in config with key \"outdir\"\n",
            "[2022/01/13 05:33:22] ERROR (82) config : Conflict in config with key \"outdir_pretrain\"\n",
            "[2022/01/13 05:33:22] INFO (82) __main__ : Define a HyperFace model\n"
          ]
        },
        {
          "output_type": "display_data",
          "data": {
            "image/png": "[encoded data removed]",
            "text/plain": [
              "<PIL.Image.Image image mode=RGB size=227x227 at 0x7F6221F81310>"
            ]
          },
          "metadata": {}
        },
        {
          "output_type": "stream",
          "name": "stdout",
          "text": [
            "det_82.43_9.91.png\n",
            "\n",
            "\n",
            "\n"
          ]
        },
        {
          "output_type": "stream",
          "name": "stderr",
          "text": [
            "[2022/01/13 05:33:25] DEBUG (82) PIL.PngImagePlugin : STREAM b'IHDR' 16 13\n",
            "[2022/01/13 05:33:25] DEBUG (82) PIL.PngImagePlugin : STREAM b'IDAT' 41 8192\n",
            "[2022/01/13 05:33:25] INFO (82) config : Load config from \"config.json\"\n",
            "[2022/01/13 05:33:25] ERROR (82) config : Conflict in config with key \"aflw_sqlite_path\"\n",
            "[2022/01/13 05:33:25] ERROR (82) config : Conflict in config with key \"aflw_imgdir_path\"\n",
            "[2022/01/13 05:33:25] ERROR (82) config : Conflict in config with key \"aflw_cache_path\"\n",
            "[2022/01/13 05:33:25] ERROR (82) config : Conflict in config with key \"aflw_test_rate\"\n",
            "[2022/01/13 05:33:25] ERROR (82) config : Conflict in config with key \"alexnet_caffemodel_path\"\n",
            "[2022/01/13 05:33:25] ERROR (82) config : Conflict in config with key \"gpu\"\n",
            "[2022/01/13 05:33:25] ERROR (82) config : Conflict in config with key \"n_loaders_train\"\n",
            "[2022/01/13 05:33:25] ERROR (82) config : Conflict in config with key \"n_loaders_test\"\n",
            "[2022/01/13 05:33:25] ERROR (82) config : Conflict in config with key \"n_epoch\"\n",
            "[2022/01/13 05:33:25] ERROR (82) config : Conflict in config with key \"batchsize\"\n",
            "[2022/01/13 05:33:25] ERROR (82) config : Conflict in config with key \"port_face\"\n",
            "[2022/01/13 05:33:25] ERROR (82) config : Conflict in config with key \"port_weight\"\n",
            "[2022/01/13 05:33:25] ERROR (82) config : Conflict in config with key \"port_lossgraph\"\n",
            "[2022/01/13 05:33:25] ERROR (82) config : Conflict in config with key \"port_evaluate\"\n",
            "[2022/01/13 05:33:25] ERROR (82) config : Conflict in config with key \"port_demo\"\n",
            "[2022/01/13 05:33:25] ERROR (82) config : Conflict in config with key \"outdir\"\n",
            "[2022/01/13 05:33:25] ERROR (82) config : Conflict in config with key \"outdir_pretrain\"\n",
            "[2022/01/13 05:33:25] INFO (82) __main__ : Define a HyperFace model\n"
          ]
        },
        {
          "output_type": "display_data",
          "data": {
            "image/png": "[encoded data removed]",
            "text/plain": [
              "<PIL.Image.Image image mode=RGB size=227x227 at 0x7F61E7EDE9D0>"
            ]
          },
          "metadata": {}
        },
        {
          "output_type": "stream",
          "name": "stdout",
          "text": [
            "Copy of tv24horas_2021_12_18_06_face1.png\n",
            "\n",
            "\n",
            "\n"
          ]
        },
        {
          "output_type": "stream",
          "name": "stderr",
          "text": [
            "[2022/01/13 05:33:28] DEBUG (82) PIL.PngImagePlugin : STREAM b'IHDR' 16 13\n",
            "[2022/01/13 05:33:28] DEBUG (82) PIL.PngImagePlugin : STREAM b'IDAT' 41 8192\n",
            "[2022/01/13 05:33:28] INFO (82) config : Load config from \"config.json\"\n",
            "[2022/01/13 05:33:28] ERROR (82) config : Conflict in config with key \"aflw_sqlite_path\"\n",
            "[2022/01/13 05:33:28] ERROR (82) config : Conflict in config with key \"aflw_imgdir_path\"\n",
            "[2022/01/13 05:33:28] ERROR (82) config : Conflict in config with key \"aflw_cache_path\"\n",
            "[2022/01/13 05:33:28] ERROR (82) config : Conflict in config with key \"aflw_test_rate\"\n",
            "[2022/01/13 05:33:28] ERROR (82) config : Conflict in config with key \"alexnet_caffemodel_path\"\n",
            "[2022/01/13 05:33:28] ERROR (82) config : Conflict in config with key \"gpu\"\n",
            "[2022/01/13 05:33:28] ERROR (82) config : Conflict in config with key \"n_loaders_train\"\n",
            "[2022/01/13 05:33:28] ERROR (82) config : Conflict in config with key \"n_loaders_test\"\n",
            "[2022/01/13 05:33:29] ERROR (82) config : Conflict in config with key \"n_epoch\"\n",
            "[2022/01/13 05:33:29] ERROR (82) config : Conflict in config with key \"batchsize\"\n",
            "[2022/01/13 05:33:29] ERROR (82) config : Conflict in config with key \"port_face\"\n",
            "[2022/01/13 05:33:29] ERROR (82) config : Conflict in config with key \"port_weight\"\n",
            "[2022/01/13 05:33:29] ERROR (82) config : Conflict in config with key \"port_lossgraph\"\n",
            "[2022/01/13 05:33:29] ERROR (82) config : Conflict in config with key \"port_evaluate\"\n",
            "[2022/01/13 05:33:29] ERROR (82) config : Conflict in config with key \"port_demo\"\n",
            "[2022/01/13 05:33:29] ERROR (82) config : Conflict in config with key \"outdir\"\n",
            "[2022/01/13 05:33:29] ERROR (82) config : Conflict in config with key \"outdir_pretrain\"\n",
            "[2022/01/13 05:33:29] INFO (82) __main__ : Define a HyperFace model\n"
          ]
        },
        {
          "output_type": "display_data",
          "data": {
            "image/png": "[encoded data removed]",
            "text/plain": [
              "<PIL.Image.Image image mode=RGB size=227x227 at 0x7F61F0917810>"
            ]
          },
          "metadata": {}
        },
        {
          "output_type": "stream",
          "name": "stdout",
          "text": [
            "Copy of tv24horas_2021_12_19_23_face1.png\n",
            "\n",
            "\n",
            "\n"
          ]
        },
        {
          "output_type": "stream",
          "name": "stderr",
          "text": [
            "[2022/01/13 05:33:32] DEBUG (82) PIL.PngImagePlugin : STREAM b'IHDR' 16 13\n",
            "[2022/01/13 05:33:32] DEBUG (82) PIL.PngImagePlugin : STREAM b'IDAT' 41 8192\n",
            "[2022/01/13 05:33:32] INFO (82) config : Load config from \"config.json\"\n",
            "[2022/01/13 05:33:32] ERROR (82) config : Conflict in config with key \"aflw_sqlite_path\"\n",
            "[2022/01/13 05:33:32] ERROR (82) config : Conflict in config with key \"aflw_imgdir_path\"\n",
            "[2022/01/13 05:33:32] ERROR (82) config : Conflict in config with key \"aflw_cache_path\"\n",
            "[2022/01/13 05:33:32] ERROR (82) config : Conflict in config with key \"aflw_test_rate\"\n",
            "[2022/01/13 05:33:32] ERROR (82) config : Conflict in config with key \"alexnet_caffemodel_path\"\n",
            "[2022/01/13 05:33:32] ERROR (82) config : Conflict in config with key \"gpu\"\n",
            "[2022/01/13 05:33:32] ERROR (82) config : Conflict in config with key \"n_loaders_train\"\n",
            "[2022/01/13 05:33:32] ERROR (82) config : Conflict in config with key \"n_loaders_test\"\n",
            "[2022/01/13 05:33:32] ERROR (82) config : Conflict in config with key \"n_epoch\"\n",
            "[2022/01/13 05:33:32] ERROR (82) config : Conflict in config with key \"batchsize\"\n",
            "[2022/01/13 05:33:32] ERROR (82) config : Conflict in config with key \"port_face\"\n",
            "[2022/01/13 05:33:32] ERROR (82) config : Conflict in config with key \"port_weight\"\n",
            "[2022/01/13 05:33:32] ERROR (82) config : Conflict in config with key \"port_lossgraph\"\n",
            "[2022/01/13 05:33:32] ERROR (82) config : Conflict in config with key \"port_evaluate\"\n",
            "[2022/01/13 05:33:32] ERROR (82) config : Conflict in config with key \"port_demo\"\n",
            "[2022/01/13 05:33:32] ERROR (82) config : Conflict in config with key \"outdir\"\n",
            "[2022/01/13 05:33:32] ERROR (82) config : Conflict in config with key \"outdir_pretrain\"\n",
            "[2022/01/13 05:33:32] INFO (82) __main__ : Define a HyperFace model\n"
          ]
        },
        {
          "output_type": "display_data",
          "data": {
            "image/png": "[encoded data removed]",
            "text/plain": [
              "<PIL.Image.Image image mode=RGB size=227x227 at 0x7F61F0898810>"
            ]
          },
          "metadata": {}
        },
        {
          "output_type": "stream",
          "name": "stdout",
          "text": [
            "Copy of tv24horas_2021_12_17_17_face1.png\n",
            "\n",
            "\n",
            "\n"
          ]
        },
        {
          "output_type": "stream",
          "name": "stderr",
          "text": [
            "[2022/01/13 05:33:35] DEBUG (82) PIL.PngImagePlugin : STREAM b'IHDR' 16 13\n",
            "[2022/01/13 05:33:35] DEBUG (82) PIL.PngImagePlugin : STREAM b'IDAT' 41 8192\n",
            "[2022/01/13 05:33:35] INFO (82) config : Load config from \"config.json\"\n",
            "[2022/01/13 05:33:35] ERROR (82) config : Conflict in config with key \"aflw_sqlite_path\"\n",
            "[2022/01/13 05:33:35] ERROR (82) config : Conflict in config with key \"aflw_imgdir_path\"\n",
            "[2022/01/13 05:33:35] ERROR (82) config : Conflict in config with key \"aflw_cache_path\"\n",
            "[2022/01/13 05:33:35] ERROR (82) config : Conflict in config with key \"aflw_test_rate\"\n",
            "[2022/01/13 05:33:35] ERROR (82) config : Conflict in config with key \"alexnet_caffemodel_path\"\n",
            "[2022/01/13 05:33:35] ERROR (82) config : Conflict in config with key \"gpu\"\n",
            "[2022/01/13 05:33:35] ERROR (82) config : Conflict in config with key \"n_loaders_train\"\n",
            "[2022/01/13 05:33:35] ERROR (82) config : Conflict in config with key \"n_loaders_test\"\n",
            "[2022/01/13 05:33:35] ERROR (82) config : Conflict in config with key \"n_epoch\"\n",
            "[2022/01/13 05:33:35] ERROR (82) config : Conflict in config with key \"batchsize\"\n",
            "[2022/01/13 05:33:35] ERROR (82) config : Conflict in config with key \"port_face\"\n",
            "[2022/01/13 05:33:35] ERROR (82) config : Conflict in config with key \"port_weight\"\n",
            "[2022/01/13 05:33:35] ERROR (82) config : Conflict in config with key \"port_lossgraph\"\n",
            "[2022/01/13 05:33:35] ERROR (82) config : Conflict in config with key \"port_evaluate\"\n",
            "[2022/01/13 05:33:35] ERROR (82) config : Conflict in config with key \"port_demo\"\n",
            "[2022/01/13 05:33:35] ERROR (82) config : Conflict in config with key \"outdir\"\n",
            "[2022/01/13 05:33:35] ERROR (82) config : Conflict in config with key \"outdir_pretrain\"\n",
            "[2022/01/13 05:33:35] INFO (82) __main__ : Define a HyperFace model\n"
          ]
        },
        {
          "output_type": "display_data",
          "data": {
            "image/png": "[encoded data removed]",
            "text/plain": [
              "<PIL.Image.Image image mode=RGB size=227x227 at 0x7F61F0937490>"
            ]
          },
          "metadata": {}
        },
        {
          "output_type": "stream",
          "name": "stdout",
          "text": [
            "Copy of tv24horas_2021_12_31_23_face1.png\n",
            "\n",
            "\n",
            "\n"
          ]
        },
        {
          "output_type": "stream",
          "name": "stderr",
          "text": [
            "[2022/01/13 05:33:38] DEBUG (82) PIL.PngImagePlugin : STREAM b'IHDR' 16 13\n",
            "[2022/01/13 05:33:38] DEBUG (82) PIL.PngImagePlugin : STREAM b'IDAT' 41 8192\n",
            "[2022/01/13 05:33:38] INFO (82) config : Load config from \"config.json\"\n",
            "[2022/01/13 05:33:38] ERROR (82) config : Conflict in config with key \"aflw_sqlite_path\"\n",
            "[2022/01/13 05:33:38] ERROR (82) config : Conflict in config with key \"aflw_imgdir_path\"\n",
            "[2022/01/13 05:33:38] ERROR (82) config : Conflict in config with key \"aflw_cache_path\"\n",
            "[2022/01/13 05:33:38] ERROR (82) config : Conflict in config with key \"aflw_test_rate\"\n",
            "[2022/01/13 05:33:38] ERROR (82) config : Conflict in config with key \"alexnet_caffemodel_path\"\n",
            "[2022/01/13 05:33:38] ERROR (82) config : Conflict in config with key \"gpu\"\n",
            "[2022/01/13 05:33:38] ERROR (82) config : Conflict in config with key \"n_loaders_train\"\n",
            "[2022/01/13 05:33:38] ERROR (82) config : Conflict in config with key \"n_loaders_test\"\n",
            "[2022/01/13 05:33:38] ERROR (82) config : Conflict in config with key \"n_epoch\"\n",
            "[2022/01/13 05:33:38] ERROR (82) config : Conflict in config with key \"batchsize\"\n",
            "[2022/01/13 05:33:38] ERROR (82) config : Conflict in config with key \"port_face\"\n",
            "[2022/01/13 05:33:38] ERROR (82) config : Conflict in config with key \"port_weight\"\n",
            "[2022/01/13 05:33:38] ERROR (82) config : Conflict in config with key \"port_lossgraph\"\n",
            "[2022/01/13 05:33:38] ERROR (82) config : Conflict in config with key \"port_evaluate\"\n",
            "[2022/01/13 05:33:38] ERROR (82) config : Conflict in config with key \"port_demo\"\n",
            "[2022/01/13 05:33:38] ERROR (82) config : Conflict in config with key \"outdir\"\n",
            "[2022/01/13 05:33:38] ERROR (82) config : Conflict in config with key \"outdir_pretrain\"\n",
            "[2022/01/13 05:33:38] INFO (82) __main__ : Define a HyperFace model\n"
          ]
        },
        {
          "output_type": "display_data",
          "data": {
            "image/png": "[encoded data removed]",
            "text/plain": [
              "<PIL.Image.Image image mode=RGB size=227x227 at 0x7F61E7EDEE90>"
            ]
          },
          "metadata": {}
        },
        {
          "output_type": "stream",
          "name": "stdout",
          "text": [
            "Copy of tv24horas_2021_12_17_19_face1.png\n",
            "\n",
            "\n",
            "\n"
          ]
        },
        {
          "output_type": "stream",
          "name": "stderr",
          "text": [
            "[2022/01/13 05:33:41] DEBUG (82) PIL.PngImagePlugin : STREAM b'IHDR' 16 13\n",
            "[2022/01/13 05:33:41] DEBUG (82) PIL.PngImagePlugin : STREAM b'IDAT' 41 8192\n",
            "[2022/01/13 05:33:41] INFO (82) config : Load config from \"config.json\"\n",
            "[2022/01/13 05:33:41] ERROR (82) config : Conflict in config with key \"aflw_sqlite_path\"\n",
            "[2022/01/13 05:33:41] ERROR (82) config : Conflict in config with key \"aflw_imgdir_path\"\n",
            "[2022/01/13 05:33:41] ERROR (82) config : Conflict in config with key \"aflw_cache_path\"\n",
            "[2022/01/13 05:33:41] ERROR (82) config : Conflict in config with key \"aflw_test_rate\"\n",
            "[2022/01/13 05:33:41] ERROR (82) config : Conflict in config with key \"alexnet_caffemodel_path\"\n",
            "[2022/01/13 05:33:41] ERROR (82) config : Conflict in config with key \"gpu\"\n",
            "[2022/01/13 05:33:41] ERROR (82) config : Conflict in config with key \"n_loaders_train\"\n",
            "[2022/01/13 05:33:41] ERROR (82) config : Conflict in config with key \"n_loaders_test\"\n",
            "[2022/01/13 05:33:41] ERROR (82) config : Conflict in config with key \"n_epoch\"\n",
            "[2022/01/13 05:33:41] ERROR (82) config : Conflict in config with key \"batchsize\"\n",
            "[2022/01/13 05:33:41] ERROR (82) config : Conflict in config with key \"port_face\"\n",
            "[2022/01/13 05:33:41] ERROR (82) config : Conflict in config with key \"port_weight\"\n",
            "[2022/01/13 05:33:41] ERROR (82) config : Conflict in config with key \"port_lossgraph\"\n",
            "[2022/01/13 05:33:41] ERROR (82) config : Conflict in config with key \"port_evaluate\"\n",
            "[2022/01/13 05:33:41] ERROR (82) config : Conflict in config with key \"port_demo\"\n",
            "[2022/01/13 05:33:41] ERROR (82) config : Conflict in config with key \"outdir\"\n",
            "[2022/01/13 05:33:41] ERROR (82) config : Conflict in config with key \"outdir_pretrain\"\n",
            "[2022/01/13 05:33:41] INFO (82) __main__ : Define a HyperFace model\n"
          ]
        },
        {
          "output_type": "display_data",
          "data": {
            "image/png": "[encoded data removed]",
            "text/plain": [
              "<PIL.Image.Image image mode=RGB size=227x227 at 0x7F61E7F68D10>"
            ]
          },
          "metadata": {}
        },
        {
          "output_type": "stream",
          "name": "stdout",
          "text": [
            "Copy of tv24horas_2021_12_19_10_face1.png\n",
            "\n",
            "\n",
            "\n"
          ]
        },
        {
          "output_type": "stream",
          "name": "stderr",
          "text": [
            "[2022/01/13 05:33:44] DEBUG (82) PIL.PngImagePlugin : STREAM b'IHDR' 16 13\n",
            "[2022/01/13 05:33:44] DEBUG (82) PIL.PngImagePlugin : STREAM b'IDAT' 41 8192\n",
            "[2022/01/13 05:33:44] INFO (82) config : Load config from \"config.json\"\n",
            "[2022/01/13 05:33:44] ERROR (82) config : Conflict in config with key \"aflw_sqlite_path\"\n",
            "[2022/01/13 05:33:44] ERROR (82) config : Conflict in config with key \"aflw_imgdir_path\"\n",
            "[2022/01/13 05:33:44] ERROR (82) config : Conflict in config with key \"aflw_cache_path\"\n",
            "[2022/01/13 05:33:44] ERROR (82) config : Conflict in config with key \"aflw_test_rate\"\n",
            "[2022/01/13 05:33:44] ERROR (82) config : Conflict in config with key \"alexnet_caffemodel_path\"\n",
            "[2022/01/13 05:33:44] ERROR (82) config : Conflict in config with key \"gpu\"\n",
            "[2022/01/13 05:33:44] ERROR (82) config : Conflict in config with key \"n_loaders_train\"\n",
            "[2022/01/13 05:33:44] ERROR (82) config : Conflict in config with key \"n_loaders_test\"\n",
            "[2022/01/13 05:33:44] ERROR (82) config : Conflict in config with key \"n_epoch\"\n",
            "[2022/01/13 05:33:44] ERROR (82) config : Conflict in config with key \"batchsize\"\n",
            "[2022/01/13 05:33:44] ERROR (82) config : Conflict in config with key \"port_face\"\n",
            "[2022/01/13 05:33:44] ERROR (82) config : Conflict in config with key \"port_weight\"\n",
            "[2022/01/13 05:33:44] ERROR (82) config : Conflict in config with key \"port_lossgraph\"\n",
            "[2022/01/13 05:33:44] ERROR (82) config : Conflict in config with key \"port_evaluate\"\n",
            "[2022/01/13 05:33:44] ERROR (82) config : Conflict in config with key \"port_demo\"\n",
            "[2022/01/13 05:33:44] ERROR (82) config : Conflict in config with key \"outdir\"\n",
            "[2022/01/13 05:33:44] ERROR (82) config : Conflict in config with key \"outdir_pretrain\"\n",
            "[2022/01/13 05:33:44] INFO (82) __main__ : Define a HyperFace model\n"
          ]
        },
        {
          "output_type": "display_data",
          "data": {
            "image/png": "[encoded data removed]",
            "text/plain": [
              "<PIL.Image.Image image mode=RGB size=227x227 at 0x7F61F0810990>"
            ]
          },
          "metadata": {}
        },
        {
          "output_type": "stream",
          "name": "stdout",
          "text": [
            "Copy of tv24horas_2021_12_22_11_face1.png\n",
            "\n",
            "\n",
            "\n"
          ]
        },
        {
          "output_type": "stream",
          "name": "stderr",
          "text": [
            "[2022/01/13 05:33:47] DEBUG (82) PIL.PngImagePlugin : STREAM b'IHDR' 16 13\n",
            "[2022/01/13 05:33:47] DEBUG (82) PIL.PngImagePlugin : STREAM b'IDAT' 41 8192\n",
            "[2022/01/13 05:33:47] INFO (82) config : Load config from \"config.json\"\n",
            "[2022/01/13 05:33:47] ERROR (82) config : Conflict in config with key \"aflw_sqlite_path\"\n",
            "[2022/01/13 05:33:47] ERROR (82) config : Conflict in config with key \"aflw_imgdir_path\"\n",
            "[2022/01/13 05:33:47] ERROR (82) config : Conflict in config with key \"aflw_cache_path\"\n",
            "[2022/01/13 05:33:47] ERROR (82) config : Conflict in config with key \"aflw_test_rate\"\n",
            "[2022/01/13 05:33:47] ERROR (82) config : Conflict in config with key \"alexnet_caffemodel_path\"\n",
            "[2022/01/13 05:33:47] ERROR (82) config : Conflict in config with key \"gpu\"\n",
            "[2022/01/13 05:33:47] ERROR (82) config : Conflict in config with key \"n_loaders_train\"\n",
            "[2022/01/13 05:33:47] ERROR (82) config : Conflict in config with key \"n_loaders_test\"\n",
            "[2022/01/13 05:33:47] ERROR (82) config : Conflict in config with key \"n_epoch\"\n",
            "[2022/01/13 05:33:47] ERROR (82) config : Conflict in config with key \"batchsize\"\n",
            "[2022/01/13 05:33:47] ERROR (82) config : Conflict in config with key \"port_face\"\n",
            "[2022/01/13 05:33:47] ERROR (82) config : Conflict in config with key \"port_weight\"\n",
            "[2022/01/13 05:33:47] ERROR (82) config : Conflict in config with key \"port_lossgraph\"\n",
            "[2022/01/13 05:33:47] ERROR (82) config : Conflict in config with key \"port_evaluate\"\n",
            "[2022/01/13 05:33:47] ERROR (82) config : Conflict in config with key \"port_demo\"\n",
            "[2022/01/13 05:33:47] ERROR (82) config : Conflict in config with key \"outdir\"\n",
            "[2022/01/13 05:33:47] ERROR (82) config : Conflict in config with key \"outdir_pretrain\"\n",
            "[2022/01/13 05:33:47] INFO (82) __main__ : Define a HyperFace model\n"
          ]
        },
        {
          "output_type": "display_data",
          "data": {
            "image/png": "[encoded data removed]",
            "text/plain": [
              "<PIL.Image.Image image mode=RGB size=227x227 at 0x7F6221F81310>"
            ]
          },
          "metadata": {}
        },
        {
          "output_type": "stream",
          "name": "stdout",
          "text": [
            "Copy of tv24horas_2021_12_25_16_face1.png\n",
            "\n",
            "\n",
            "\n"
          ]
        },
        {
          "output_type": "stream",
          "name": "stderr",
          "text": [
            "[2022/01/13 05:33:50] DEBUG (82) PIL.PngImagePlugin : STREAM b'IHDR' 16 13\n",
            "[2022/01/13 05:33:50] DEBUG (82) PIL.PngImagePlugin : STREAM b'IDAT' 41 8192\n",
            "[2022/01/13 05:33:50] INFO (82) config : Load config from \"config.json\"\n",
            "[2022/01/13 05:33:50] ERROR (82) config : Conflict in config with key \"aflw_sqlite_path\"\n",
            "[2022/01/13 05:33:50] ERROR (82) config : Conflict in config with key \"aflw_imgdir_path\"\n",
            "[2022/01/13 05:33:50] ERROR (82) config : Conflict in config with key \"aflw_cache_path\"\n",
            "[2022/01/13 05:33:50] ERROR (82) config : Conflict in config with key \"aflw_test_rate\"\n",
            "[2022/01/13 05:33:50] ERROR (82) config : Conflict in config with key \"alexnet_caffemodel_path\"\n",
            "[2022/01/13 05:33:50] ERROR (82) config : Conflict in config with key \"gpu\"\n",
            "[2022/01/13 05:33:50] ERROR (82) config : Conflict in config with key \"n_loaders_train\"\n",
            "[2022/01/13 05:33:50] ERROR (82) config : Conflict in config with key \"n_loaders_test\"\n",
            "[2022/01/13 05:33:50] ERROR (82) config : Conflict in config with key \"n_epoch\"\n",
            "[2022/01/13 05:33:50] ERROR (82) config : Conflict in config with key \"batchsize\"\n",
            "[2022/01/13 05:33:50] ERROR (82) config : Conflict in config with key \"port_face\"\n",
            "[2022/01/13 05:33:50] ERROR (82) config : Conflict in config with key \"port_weight\"\n",
            "[2022/01/13 05:33:50] ERROR (82) config : Conflict in config with key \"port_lossgraph\"\n",
            "[2022/01/13 05:33:50] ERROR (82) config : Conflict in config with key \"port_evaluate\"\n",
            "[2022/01/13 05:33:50] ERROR (82) config : Conflict in config with key \"port_demo\"\n",
            "[2022/01/13 05:33:50] ERROR (82) config : Conflict in config with key \"outdir\"\n",
            "[2022/01/13 05:33:50] ERROR (82) config : Conflict in config with key \"outdir_pretrain\"\n",
            "[2022/01/13 05:33:50] INFO (82) __main__ : Define a HyperFace model\n"
          ]
        },
        {
          "output_type": "display_data",
          "data": {
            "image/png": "[encoded data removed]",
            "text/plain": [
              "<PIL.Image.Image image mode=RGB size=227x227 at 0x7F61FC60FD90>"
            ]
          },
          "metadata": {}
        },
        {
          "output_type": "stream",
          "name": "stdout",
          "text": [
            "Copy of tv24horas_2021_12_19_17_face1.png\n",
            "\n",
            "\n",
            "\n"
          ]
        },
        {
          "output_type": "stream",
          "name": "stderr",
          "text": [
            "[2022/01/13 05:33:53] DEBUG (82) PIL.PngImagePlugin : STREAM b'IHDR' 16 13\n",
            "[2022/01/13 05:33:53] DEBUG (82) PIL.PngImagePlugin : STREAM b'IDAT' 41 8192\n",
            "[2022/01/13 05:33:53] INFO (82) config : Load config from \"config.json\"\n",
            "[2022/01/13 05:33:53] ERROR (82) config : Conflict in config with key \"aflw_sqlite_path\"\n",
            "[2022/01/13 05:33:53] ERROR (82) config : Conflict in config with key \"aflw_imgdir_path\"\n",
            "[2022/01/13 05:33:53] ERROR (82) config : Conflict in config with key \"aflw_cache_path\"\n",
            "[2022/01/13 05:33:53] ERROR (82) config : Conflict in config with key \"aflw_test_rate\"\n",
            "[2022/01/13 05:33:53] ERROR (82) config : Conflict in config with key \"alexnet_caffemodel_path\"\n",
            "[2022/01/13 05:33:53] ERROR (82) config : Conflict in config with key \"gpu\"\n",
            "[2022/01/13 05:33:53] ERROR (82) config : Conflict in config with key \"n_loaders_train\"\n",
            "[2022/01/13 05:33:53] ERROR (82) config : Conflict in config with key \"n_loaders_test\"\n",
            "[2022/01/13 05:33:53] ERROR (82) config : Conflict in config with key \"n_epoch\"\n",
            "[2022/01/13 05:33:53] ERROR (82) config : Conflict in config with key \"batchsize\"\n",
            "[2022/01/13 05:33:53] ERROR (82) config : Conflict in config with key \"port_face\"\n",
            "[2022/01/13 05:33:53] ERROR (82) config : Conflict in config with key \"port_weight\"\n",
            "[2022/01/13 05:33:53] ERROR (82) config : Conflict in config with key \"port_lossgraph\"\n",
            "[2022/01/13 05:33:53] ERROR (82) config : Conflict in config with key \"port_evaluate\"\n",
            "[2022/01/13 05:33:53] ERROR (82) config : Conflict in config with key \"port_demo\"\n",
            "[2022/01/13 05:33:53] ERROR (82) config : Conflict in config with key \"outdir\"\n",
            "[2022/01/13 05:33:53] ERROR (82) config : Conflict in config with key \"outdir_pretrain\"\n",
            "[2022/01/13 05:33:53] INFO (82) __main__ : Define a HyperFace model\n"
          ]
        },
        {
          "output_type": "display_data",
          "data": {
            "image/png": "[encoded data removed]",
            "text/plain": [
              "<PIL.Image.Image image mode=RGB size=227x227 at 0x7F61E7F68C10>"
            ]
          },
          "metadata": {}
        },
        {
          "output_type": "stream",
          "name": "stdout",
          "text": [
            "Copy of tv24horas_2021_12_26_16_face1.png\n",
            "\n",
            "\n",
            "\n"
          ]
        },
        {
          "output_type": "stream",
          "name": "stderr",
          "text": [
            "[2022/01/13 05:33:56] DEBUG (82) PIL.PngImagePlugin : STREAM b'IHDR' 16 13\n",
            "[2022/01/13 05:33:56] DEBUG (82) PIL.PngImagePlugin : STREAM b'IDAT' 41 8192\n",
            "[2022/01/13 05:33:56] INFO (82) config : Load config from \"config.json\"\n",
            "[2022/01/13 05:33:56] ERROR (82) config : Conflict in config with key \"aflw_sqlite_path\"\n",
            "[2022/01/13 05:33:56] ERROR (82) config : Conflict in config with key \"aflw_imgdir_path\"\n",
            "[2022/01/13 05:33:56] ERROR (82) config : Conflict in config with key \"aflw_cache_path\"\n",
            "[2022/01/13 05:33:56] ERROR (82) config : Conflict in config with key \"aflw_test_rate\"\n",
            "[2022/01/13 05:33:56] ERROR (82) config : Conflict in config with key \"alexnet_caffemodel_path\"\n",
            "[2022/01/13 05:33:56] ERROR (82) config : Conflict in config with key \"gpu\"\n",
            "[2022/01/13 05:33:56] ERROR (82) config : Conflict in config with key \"n_loaders_train\"\n",
            "[2022/01/13 05:33:56] ERROR (82) config : Conflict in config with key \"n_loaders_test\"\n",
            "[2022/01/13 05:33:56] ERROR (82) config : Conflict in config with key \"n_epoch\"\n",
            "[2022/01/13 05:33:56] ERROR (82) config : Conflict in config with key \"batchsize\"\n",
            "[2022/01/13 05:33:56] ERROR (82) config : Conflict in config with key \"port_face\"\n",
            "[2022/01/13 05:33:56] ERROR (82) config : Conflict in config with key \"port_weight\"\n",
            "[2022/01/13 05:33:56] ERROR (82) config : Conflict in config with key \"port_lossgraph\"\n",
            "[2022/01/13 05:33:56] ERROR (82) config : Conflict in config with key \"port_evaluate\"\n",
            "[2022/01/13 05:33:56] ERROR (82) config : Conflict in config with key \"port_demo\"\n",
            "[2022/01/13 05:33:56] ERROR (82) config : Conflict in config with key \"outdir\"\n",
            "[2022/01/13 05:33:56] ERROR (82) config : Conflict in config with key \"outdir_pretrain\"\n",
            "[2022/01/13 05:33:56] INFO (82) __main__ : Define a HyperFace model\n"
          ]
        },
        {
          "output_type": "display_data",
          "data": {
            "image/png": "[encoded data removed]",
            "text/plain": [
              "<PIL.Image.Image image mode=RGB size=227x227 at 0x7F61F08BB650>"
            ]
          },
          "metadata": {}
        },
        {
          "output_type": "stream",
          "name": "stdout",
          "text": [
            "Copy of tv24horas_2021_12_27_18_face1.png\n",
            "\n",
            "\n",
            "\n"
          ]
        },
        {
          "output_type": "stream",
          "name": "stderr",
          "text": [
            "[2022/01/13 05:33:59] DEBUG (82) PIL.PngImagePlugin : STREAM b'IHDR' 16 13\n",
            "[2022/01/13 05:33:59] DEBUG (82) PIL.PngImagePlugin : STREAM b'IDAT' 41 8192\n",
            "[2022/01/13 05:33:59] INFO (82) config : Load config from \"config.json\"\n",
            "[2022/01/13 05:33:59] ERROR (82) config : Conflict in config with key \"aflw_sqlite_path\"\n",
            "[2022/01/13 05:33:59] ERROR (82) config : Conflict in config with key \"aflw_imgdir_path\"\n",
            "[2022/01/13 05:33:59] ERROR (82) config : Conflict in config with key \"aflw_cache_path\"\n",
            "[2022/01/13 05:33:59] ERROR (82) config : Conflict in config with key \"aflw_test_rate\"\n",
            "[2022/01/13 05:33:59] ERROR (82) config : Conflict in config with key \"alexnet_caffemodel_path\"\n",
            "[2022/01/13 05:33:59] ERROR (82) config : Conflict in config with key \"gpu\"\n",
            "[2022/01/13 05:33:59] ERROR (82) config : Conflict in config with key \"n_loaders_train\"\n",
            "[2022/01/13 05:33:59] ERROR (82) config : Conflict in config with key \"n_loaders_test\"\n",
            "[2022/01/13 05:33:59] ERROR (82) config : Conflict in config with key \"n_epoch\"\n",
            "[2022/01/13 05:33:59] ERROR (82) config : Conflict in config with key \"batchsize\"\n",
            "[2022/01/13 05:33:59] ERROR (82) config : Conflict in config with key \"port_face\"\n",
            "[2022/01/13 05:33:59] ERROR (82) config : Conflict in config with key \"port_weight\"\n",
            "[2022/01/13 05:33:59] ERROR (82) config : Conflict in config with key \"port_lossgraph\"\n",
            "[2022/01/13 05:33:59] ERROR (82) config : Conflict in config with key \"port_evaluate\"\n",
            "[2022/01/13 05:33:59] ERROR (82) config : Conflict in config with key \"port_demo\"\n",
            "[2022/01/13 05:33:59] ERROR (82) config : Conflict in config with key \"outdir\"\n",
            "[2022/01/13 05:33:59] ERROR (82) config : Conflict in config with key \"outdir_pretrain\"\n",
            "[2022/01/13 05:33:59] INFO (82) __main__ : Define a HyperFace model\n"
          ]
        },
        {
          "output_type": "display_data",
          "data": {
            "image/png": "[encoded data removed]",
            "text/plain": [
              "<PIL.Image.Image image mode=RGB size=227x227 at 0x7F61F0917D10>"
            ]
          },
          "metadata": {}
        },
        {
          "output_type": "stream",
          "name": "stdout",
          "text": [
            "Copy of tv24horas_2021_12_26_22_face1.png\n",
            "\n",
            "\n",
            "\n"
          ]
        },
        {
          "output_type": "stream",
          "name": "stderr",
          "text": [
            "[2022/01/13 05:34:02] DEBUG (82) PIL.PngImagePlugin : STREAM b'IHDR' 16 13\n",
            "[2022/01/13 05:34:02] DEBUG (82) PIL.PngImagePlugin : STREAM b'IDAT' 41 8192\n",
            "[2022/01/13 05:34:02] INFO (82) config : Load config from \"config.json\"\n",
            "[2022/01/13 05:34:02] ERROR (82) config : Conflict in config with key \"aflw_sqlite_path\"\n",
            "[2022/01/13 05:34:02] ERROR (82) config : Conflict in config with key \"aflw_imgdir_path\"\n",
            "[2022/01/13 05:34:02] ERROR (82) config : Conflict in config with key \"aflw_cache_path\"\n",
            "[2022/01/13 05:34:02] ERROR (82) config : Conflict in config with key \"aflw_test_rate\"\n",
            "[2022/01/13 05:34:02] ERROR (82) config : Conflict in config with key \"alexnet_caffemodel_path\"\n",
            "[2022/01/13 05:34:02] ERROR (82) config : Conflict in config with key \"gpu\"\n",
            "[2022/01/13 05:34:02] ERROR (82) config : Conflict in config with key \"n_loaders_train\"\n",
            "[2022/01/13 05:34:02] ERROR (82) config : Conflict in config with key \"n_loaders_test\"\n",
            "[2022/01/13 05:34:02] ERROR (82) config : Conflict in config with key \"n_epoch\"\n",
            "[2022/01/13 05:34:02] ERROR (82) config : Conflict in config with key \"batchsize\"\n",
            "[2022/01/13 05:34:02] ERROR (82) config : Conflict in config with key \"port_face\"\n",
            "[2022/01/13 05:34:02] ERROR (82) config : Conflict in config with key \"port_weight\"\n",
            "[2022/01/13 05:34:02] ERROR (82) config : Conflict in config with key \"port_lossgraph\"\n",
            "[2022/01/13 05:34:02] ERROR (82) config : Conflict in config with key \"port_evaluate\"\n",
            "[2022/01/13 05:34:02] ERROR (82) config : Conflict in config with key \"port_demo\"\n",
            "[2022/01/13 05:34:02] ERROR (82) config : Conflict in config with key \"outdir\"\n",
            "[2022/01/13 05:34:02] ERROR (82) config : Conflict in config with key \"outdir_pretrain\"\n",
            "[2022/01/13 05:34:02] INFO (82) __main__ : Define a HyperFace model\n"
          ]
        },
        {
          "output_type": "display_data",
          "data": {
            "image/png": "[encoded data removed]",
            "text/plain": [
              "<PIL.Image.Image image mode=RGB size=227x227 at 0x7F61FC60FD90>"
            ]
          },
          "metadata": {}
        },
        {
          "output_type": "stream",
          "name": "stdout",
          "text": [
            "Copy of tv24horas_2021_12_29_21_face1.png\n",
            "\n",
            "\n",
            "\n"
          ]
        },
        {
          "output_type": "stream",
          "name": "stderr",
          "text": [
            "[2022/01/13 05:34:05] DEBUG (82) PIL.PngImagePlugin : STREAM b'IHDR' 16 13\n",
            "[2022/01/13 05:34:05] DEBUG (82) PIL.PngImagePlugin : STREAM b'IDAT' 41 8192\n",
            "[2022/01/13 05:34:05] INFO (82) config : Load config from \"config.json\"\n",
            "[2022/01/13 05:34:05] ERROR (82) config : Conflict in config with key \"aflw_sqlite_path\"\n",
            "[2022/01/13 05:34:05] ERROR (82) config : Conflict in config with key \"aflw_imgdir_path\"\n",
            "[2022/01/13 05:34:05] ERROR (82) config : Conflict in config with key \"aflw_cache_path\"\n",
            "[2022/01/13 05:34:05] ERROR (82) config : Conflict in config with key \"aflw_test_rate\"\n",
            "[2022/01/13 05:34:05] ERROR (82) config : Conflict in config with key \"alexnet_caffemodel_path\"\n",
            "[2022/01/13 05:34:05] ERROR (82) config : Conflict in config with key \"gpu\"\n",
            "[2022/01/13 05:34:05] ERROR (82) config : Conflict in config with key \"n_loaders_train\"\n",
            "[2022/01/13 05:34:05] ERROR (82) config : Conflict in config with key \"n_loaders_test\"\n",
            "[2022/01/13 05:34:05] ERROR (82) config : Conflict in config with key \"n_epoch\"\n",
            "[2022/01/13 05:34:05] ERROR (82) config : Conflict in config with key \"batchsize\"\n",
            "[2022/01/13 05:34:05] ERROR (82) config : Conflict in config with key \"port_face\"\n",
            "[2022/01/13 05:34:05] ERROR (82) config : Conflict in config with key \"port_weight\"\n",
            "[2022/01/13 05:34:05] ERROR (82) config : Conflict in config with key \"port_lossgraph\"\n",
            "[2022/01/13 05:34:05] ERROR (82) config : Conflict in config with key \"port_evaluate\"\n",
            "[2022/01/13 05:34:05] ERROR (82) config : Conflict in config with key \"port_demo\"\n",
            "[2022/01/13 05:34:05] ERROR (82) config : Conflict in config with key \"outdir\"\n",
            "[2022/01/13 05:34:05] ERROR (82) config : Conflict in config with key \"outdir_pretrain\"\n",
            "[2022/01/13 05:34:05] INFO (82) __main__ : Define a HyperFace model\n"
          ]
        },
        {
          "output_type": "display_data",
          "data": {
            "image/png": "[encoded data removed]",
            "text/plain": [
              "<PIL.Image.Image image mode=RGB size=227x227 at 0x7F61E7E5C3D0>"
            ]
          },
          "metadata": {}
        },
        {
          "output_type": "stream",
          "name": "stdout",
          "text": [
            "Copy of tv24horas_2021_12_30_16_face1.png\n",
            "\n",
            "\n",
            "\n"
          ]
        },
        {
          "output_type": "stream",
          "name": "stderr",
          "text": [
            "[2022/01/13 05:34:08] DEBUG (82) PIL.PngImagePlugin : STREAM b'IHDR' 16 13\n",
            "[2022/01/13 05:34:08] DEBUG (82) PIL.PngImagePlugin : STREAM b'IDAT' 41 8192\n",
            "[2022/01/13 05:34:08] INFO (82) config : Load config from \"config.json\"\n",
            "[2022/01/13 05:34:08] ERROR (82) config : Conflict in config with key \"aflw_sqlite_path\"\n",
            "[2022/01/13 05:34:08] ERROR (82) config : Conflict in config with key \"aflw_imgdir_path\"\n",
            "[2022/01/13 05:34:08] ERROR (82) config : Conflict in config with key \"aflw_cache_path\"\n",
            "[2022/01/13 05:34:08] ERROR (82) config : Conflict in config with key \"aflw_test_rate\"\n",
            "[2022/01/13 05:34:08] ERROR (82) config : Conflict in config with key \"alexnet_caffemodel_path\"\n",
            "[2022/01/13 05:34:08] ERROR (82) config : Conflict in config with key \"gpu\"\n",
            "[2022/01/13 05:34:08] ERROR (82) config : Conflict in config with key \"n_loaders_train\"\n",
            "[2022/01/13 05:34:08] ERROR (82) config : Conflict in config with key \"n_loaders_test\"\n",
            "[2022/01/13 05:34:08] ERROR (82) config : Conflict in config with key \"n_epoch\"\n",
            "[2022/01/13 05:34:08] ERROR (82) config : Conflict in config with key \"batchsize\"\n",
            "[2022/01/13 05:34:08] ERROR (82) config : Conflict in config with key \"port_face\"\n",
            "[2022/01/13 05:34:08] ERROR (82) config : Conflict in config with key \"port_weight\"\n",
            "[2022/01/13 05:34:08] ERROR (82) config : Conflict in config with key \"port_lossgraph\"\n",
            "[2022/01/13 05:34:08] ERROR (82) config : Conflict in config with key \"port_evaluate\"\n",
            "[2022/01/13 05:34:08] ERROR (82) config : Conflict in config with key \"port_demo\"\n",
            "[2022/01/13 05:34:08] ERROR (82) config : Conflict in config with key \"outdir\"\n",
            "[2022/01/13 05:34:08] ERROR (82) config : Conflict in config with key \"outdir_pretrain\"\n",
            "[2022/01/13 05:34:08] INFO (82) __main__ : Define a HyperFace model\n"
          ]
        },
        {
          "output_type": "display_data",
          "data": {
            "image/png": "[encoded data removed]",
            "text/plain": [
              "<PIL.Image.Image image mode=RGB size=227x227 at 0x7F61FC60FD90>"
            ]
          },
          "metadata": {}
        },
        {
          "output_type": "stream",
          "name": "stdout",
          "text": [
            "Copy of tv24horas_2021_12_27_12_face1.png\n",
            "\n",
            "\n",
            "\n"
          ]
        },
        {
          "output_type": "stream",
          "name": "stderr",
          "text": [
            "[2022/01/13 05:34:11] DEBUG (82) PIL.PngImagePlugin : STREAM b'IHDR' 16 13\n",
            "[2022/01/13 05:34:11] DEBUG (82) PIL.PngImagePlugin : STREAM b'IDAT' 41 8192\n",
            "[2022/01/13 05:34:11] INFO (82) config : Load config from \"config.json\"\n",
            "[2022/01/13 05:34:11] ERROR (82) config : Conflict in config with key \"aflw_sqlite_path\"\n",
            "[2022/01/13 05:34:11] ERROR (82) config : Conflict in config with key \"aflw_imgdir_path\"\n",
            "[2022/01/13 05:34:11] ERROR (82) config : Conflict in config with key \"aflw_cache_path\"\n",
            "[2022/01/13 05:34:11] ERROR (82) config : Conflict in config with key \"aflw_test_rate\"\n",
            "[2022/01/13 05:34:11] ERROR (82) config : Conflict in config with key \"alexnet_caffemodel_path\"\n",
            "[2022/01/13 05:34:11] ERROR (82) config : Conflict in config with key \"gpu\"\n",
            "[2022/01/13 05:34:11] ERROR (82) config : Conflict in config with key \"n_loaders_train\"\n",
            "[2022/01/13 05:34:11] ERROR (82) config : Conflict in config with key \"n_loaders_test\"\n",
            "[2022/01/13 05:34:11] ERROR (82) config : Conflict in config with key \"n_epoch\"\n",
            "[2022/01/13 05:34:11] ERROR (82) config : Conflict in config with key \"batchsize\"\n",
            "[2022/01/13 05:34:11] ERROR (82) config : Conflict in config with key \"port_face\"\n",
            "[2022/01/13 05:34:11] ERROR (82) config : Conflict in config with key \"port_weight\"\n",
            "[2022/01/13 05:34:11] ERROR (82) config : Conflict in config with key \"port_lossgraph\"\n",
            "[2022/01/13 05:34:11] ERROR (82) config : Conflict in config with key \"port_evaluate\"\n",
            "[2022/01/13 05:34:11] ERROR (82) config : Conflict in config with key \"port_demo\"\n",
            "[2022/01/13 05:34:11] ERROR (82) config : Conflict in config with key \"outdir\"\n",
            "[2022/01/13 05:34:11] ERROR (82) config : Conflict in config with key \"outdir_pretrain\"\n",
            "[2022/01/13 05:34:11] INFO (82) __main__ : Define a HyperFace model\n"
          ]
        },
        {
          "output_type": "display_data",
          "data": {
            "image/png": "[encoded data removed]",
            "text/plain": [
              "<PIL.Image.Image image mode=RGB size=227x227 at 0x7F61E7E8A190>"
            ]
          },
          "metadata": {}
        },
        {
          "output_type": "stream",
          "name": "stdout",
          "text": [
            "Copy of tv24horas_2021_12_28_01_face1.png\n",
            "\n",
            "\n",
            "\n"
          ]
        },
        {
          "output_type": "stream",
          "name": "stderr",
          "text": [
            "[2022/01/13 05:34:14] DEBUG (82) PIL.PngImagePlugin : STREAM b'IHDR' 16 13\n",
            "[2022/01/13 05:34:14] DEBUG (82) PIL.PngImagePlugin : STREAM b'IDAT' 41 8192\n",
            "[2022/01/13 05:34:14] INFO (82) config : Load config from \"config.json\"\n",
            "[2022/01/13 05:34:14] ERROR (82) config : Conflict in config with key \"aflw_sqlite_path\"\n",
            "[2022/01/13 05:34:14] ERROR (82) config : Conflict in config with key \"aflw_imgdir_path\"\n",
            "[2022/01/13 05:34:14] ERROR (82) config : Conflict in config with key \"aflw_cache_path\"\n",
            "[2022/01/13 05:34:14] ERROR (82) config : Conflict in config with key \"aflw_test_rate\"\n",
            "[2022/01/13 05:34:14] ERROR (82) config : Conflict in config with key \"alexnet_caffemodel_path\"\n",
            "[2022/01/13 05:34:14] ERROR (82) config : Conflict in config with key \"gpu\"\n",
            "[2022/01/13 05:34:14] ERROR (82) config : Conflict in config with key \"n_loaders_train\"\n",
            "[2022/01/13 05:34:14] ERROR (82) config : Conflict in config with key \"n_loaders_test\"\n",
            "[2022/01/13 05:34:14] ERROR (82) config : Conflict in config with key \"n_epoch\"\n",
            "[2022/01/13 05:34:14] ERROR (82) config : Conflict in config with key \"batchsize\"\n",
            "[2022/01/13 05:34:14] ERROR (82) config : Conflict in config with key \"port_face\"\n",
            "[2022/01/13 05:34:14] ERROR (82) config : Conflict in config with key \"port_weight\"\n",
            "[2022/01/13 05:34:14] ERROR (82) config : Conflict in config with key \"port_lossgraph\"\n",
            "[2022/01/13 05:34:14] ERROR (82) config : Conflict in config with key \"port_evaluate\"\n",
            "[2022/01/13 05:34:14] ERROR (82) config : Conflict in config with key \"port_demo\"\n",
            "[2022/01/13 05:34:14] ERROR (82) config : Conflict in config with key \"outdir\"\n",
            "[2022/01/13 05:34:14] ERROR (82) config : Conflict in config with key \"outdir_pretrain\"\n",
            "[2022/01/13 05:34:14] INFO (82) __main__ : Define a HyperFace model\n"
          ]
        },
        {
          "output_type": "display_data",
          "data": {
            "image/png": "[encoded data removed]",
            "text/plain": [
              "<PIL.Image.Image image mode=RGB size=227x227 at 0x7F61FC61F510>"
            ]
          },
          "metadata": {}
        },
        {
          "output_type": "stream",
          "name": "stdout",
          "text": [
            "Copy of tv24horas_2021_12_28_19_face1.png\n",
            "\n",
            "\n",
            "\n"
          ]
        },
        {
          "output_type": "stream",
          "name": "stderr",
          "text": [
            "[2022/01/13 05:34:17] DEBUG (82) PIL.PngImagePlugin : STREAM b'IHDR' 16 13\n",
            "[2022/01/13 05:34:17] DEBUG (82) PIL.PngImagePlugin : STREAM b'IDAT' 41 8192\n",
            "[2022/01/13 05:34:17] INFO (82) config : Load config from \"config.json\"\n",
            "[2022/01/13 05:34:17] ERROR (82) config : Conflict in config with key \"aflw_sqlite_path\"\n",
            "[2022/01/13 05:34:17] ERROR (82) config : Conflict in config with key \"aflw_imgdir_path\"\n",
            "[2022/01/13 05:34:17] ERROR (82) config : Conflict in config with key \"aflw_cache_path\"\n",
            "[2022/01/13 05:34:17] ERROR (82) config : Conflict in config with key \"aflw_test_rate\"\n",
            "[2022/01/13 05:34:17] ERROR (82) config : Conflict in config with key \"alexnet_caffemodel_path\"\n",
            "[2022/01/13 05:34:17] ERROR (82) config : Conflict in config with key \"gpu\"\n",
            "[2022/01/13 05:34:17] ERROR (82) config : Conflict in config with key \"n_loaders_train\"\n",
            "[2022/01/13 05:34:17] ERROR (82) config : Conflict in config with key \"n_loaders_test\"\n",
            "[2022/01/13 05:34:17] ERROR (82) config : Conflict in config with key \"n_epoch\"\n",
            "[2022/01/13 05:34:17] ERROR (82) config : Conflict in config with key \"batchsize\"\n",
            "[2022/01/13 05:34:17] ERROR (82) config : Conflict in config with key \"port_face\"\n",
            "[2022/01/13 05:34:17] ERROR (82) config : Conflict in config with key \"port_weight\"\n",
            "[2022/01/13 05:34:17] ERROR (82) config : Conflict in config with key \"port_lossgraph\"\n",
            "[2022/01/13 05:34:17] ERROR (82) config : Conflict in config with key \"port_evaluate\"\n",
            "[2022/01/13 05:34:17] ERROR (82) config : Conflict in config with key \"port_demo\"\n",
            "[2022/01/13 05:34:17] ERROR (82) config : Conflict in config with key \"outdir\"\n",
            "[2022/01/13 05:34:17] ERROR (82) config : Conflict in config with key \"outdir_pretrain\"\n",
            "[2022/01/13 05:34:17] INFO (82) __main__ : Define a HyperFace model\n"
          ]
        },
        {
          "output_type": "display_data",
          "data": {
            "image/png": "[encoded data removed]",
            "text/plain": [
              "<PIL.Image.Image image mode=RGB size=227x227 at 0x7F61F0810350>"
            ]
          },
          "metadata": {}
        },
        {
          "output_type": "stream",
          "name": "stdout",
          "text": [
            "Copy of tv24horas_2021_12_29_06_face1.png\n",
            "\n",
            "\n",
            "\n"
          ]
        },
        {
          "output_type": "stream",
          "name": "stderr",
          "text": [
            "[2022/01/13 05:34:20] DEBUG (82) PIL.PngImagePlugin : STREAM b'IHDR' 16 13\n",
            "[2022/01/13 05:34:20] DEBUG (82) PIL.PngImagePlugin : STREAM b'IDAT' 41 8192\n",
            "[2022/01/13 05:34:20] INFO (82) config : Load config from \"config.json\"\n",
            "[2022/01/13 05:34:20] ERROR (82) config : Conflict in config with key \"aflw_sqlite_path\"\n",
            "[2022/01/13 05:34:20] ERROR (82) config : Conflict in config with key \"aflw_imgdir_path\"\n",
            "[2022/01/13 05:34:20] ERROR (82) config : Conflict in config with key \"aflw_cache_path\"\n",
            "[2022/01/13 05:34:20] ERROR (82) config : Conflict in config with key \"aflw_test_rate\"\n",
            "[2022/01/13 05:34:20] ERROR (82) config : Conflict in config with key \"alexnet_caffemodel_path\"\n",
            "[2022/01/13 05:34:20] ERROR (82) config : Conflict in config with key \"gpu\"\n",
            "[2022/01/13 05:34:20] ERROR (82) config : Conflict in config with key \"n_loaders_train\"\n",
            "[2022/01/13 05:34:20] ERROR (82) config : Conflict in config with key \"n_loaders_test\"\n",
            "[2022/01/13 05:34:20] ERROR (82) config : Conflict in config with key \"n_epoch\"\n",
            "[2022/01/13 05:34:20] ERROR (82) config : Conflict in config with key \"batchsize\"\n",
            "[2022/01/13 05:34:20] ERROR (82) config : Conflict in config with key \"port_face\"\n",
            "[2022/01/13 05:34:20] ERROR (82) config : Conflict in config with key \"port_weight\"\n",
            "[2022/01/13 05:34:20] ERROR (82) config : Conflict in config with key \"port_lossgraph\"\n",
            "[2022/01/13 05:34:20] ERROR (82) config : Conflict in config with key \"port_evaluate\"\n",
            "[2022/01/13 05:34:20] ERROR (82) config : Conflict in config with key \"port_demo\"\n",
            "[2022/01/13 05:34:20] ERROR (82) config : Conflict in config with key \"outdir\"\n",
            "[2022/01/13 05:34:20] ERROR (82) config : Conflict in config with key \"outdir_pretrain\"\n",
            "[2022/01/13 05:34:20] INFO (82) __main__ : Define a HyperFace model\n"
          ]
        },
        {
          "output_type": "display_data",
          "data": {
            "image/png": "[encoded data removed]",
            "text/plain": [
              "<PIL.Image.Image image mode=RGB size=227x227 at 0x7F6294415110>"
            ]
          },
          "metadata": {}
        },
        {
          "output_type": "stream",
          "name": "stdout",
          "text": [
            "Copy of tv24horas_2021_12_29_24_face1.png\n",
            "\n",
            "\n",
            "\n"
          ]
        },
        {
          "output_type": "stream",
          "name": "stderr",
          "text": [
            "[2022/01/13 05:34:23] DEBUG (82) PIL.PngImagePlugin : STREAM b'IHDR' 16 13\n",
            "[2022/01/13 05:34:23] DEBUG (82) PIL.PngImagePlugin : STREAM b'IDAT' 41 8192\n",
            "[2022/01/13 05:34:23] INFO (82) config : Load config from \"config.json\"\n",
            "[2022/01/13 05:34:23] ERROR (82) config : Conflict in config with key \"aflw_sqlite_path\"\n",
            "[2022/01/13 05:34:23] ERROR (82) config : Conflict in config with key \"aflw_imgdir_path\"\n",
            "[2022/01/13 05:34:23] ERROR (82) config : Conflict in config with key \"aflw_cache_path\"\n",
            "[2022/01/13 05:34:23] ERROR (82) config : Conflict in config with key \"aflw_test_rate\"\n",
            "[2022/01/13 05:34:23] ERROR (82) config : Conflict in config with key \"alexnet_caffemodel_path\"\n",
            "[2022/01/13 05:34:23] ERROR (82) config : Conflict in config with key \"gpu\"\n",
            "[2022/01/13 05:34:23] ERROR (82) config : Conflict in config with key \"n_loaders_train\"\n",
            "[2022/01/13 05:34:23] ERROR (82) config : Conflict in config with key \"n_loaders_test\"\n",
            "[2022/01/13 05:34:23] ERROR (82) config : Conflict in config with key \"n_epoch\"\n",
            "[2022/01/13 05:34:23] ERROR (82) config : Conflict in config with key \"batchsize\"\n",
            "[2022/01/13 05:34:23] ERROR (82) config : Conflict in config with key \"port_face\"\n",
            "[2022/01/13 05:34:23] ERROR (82) config : Conflict in config with key \"port_weight\"\n",
            "[2022/01/13 05:34:23] ERROR (82) config : Conflict in config with key \"port_lossgraph\"\n",
            "[2022/01/13 05:34:23] ERROR (82) config : Conflict in config with key \"port_evaluate\"\n",
            "[2022/01/13 05:34:23] ERROR (82) config : Conflict in config with key \"port_demo\"\n",
            "[2022/01/13 05:34:23] ERROR (82) config : Conflict in config with key \"outdir\"\n",
            "[2022/01/13 05:34:23] ERROR (82) config : Conflict in config with key \"outdir_pretrain\"\n",
            "[2022/01/13 05:34:23] INFO (82) __main__ : Define a HyperFace model\n"
          ]
        },
        {
          "output_type": "display_data",
          "data": {
            "image/png": "[encoded data removed]",
            "text/plain": [
              "<PIL.Image.Image image mode=RGB size=227x227 at 0x7F61FC60FD90>"
            ]
          },
          "metadata": {}
        },
        {
          "output_type": "stream",
          "name": "stdout",
          "text": [
            "Copy of tv24horas_2021_12_27_23_face1.png\n",
            "\n",
            "\n",
            "\n"
          ]
        },
        {
          "output_type": "stream",
          "name": "stderr",
          "text": [
            "[2022/01/13 05:34:26] DEBUG (82) PIL.PngImagePlugin : STREAM b'IHDR' 16 13\n",
            "[2022/01/13 05:34:26] DEBUG (82) PIL.PngImagePlugin : STREAM b'IDAT' 41 8192\n",
            "[2022/01/13 05:34:26] INFO (82) config : Load config from \"config.json\"\n",
            "[2022/01/13 05:34:26] ERROR (82) config : Conflict in config with key \"aflw_sqlite_path\"\n",
            "[2022/01/13 05:34:26] ERROR (82) config : Conflict in config with key \"aflw_imgdir_path\"\n",
            "[2022/01/13 05:34:26] ERROR (82) config : Conflict in config with key \"aflw_cache_path\"\n",
            "[2022/01/13 05:34:26] ERROR (82) config : Conflict in config with key \"aflw_test_rate\"\n",
            "[2022/01/13 05:34:26] ERROR (82) config : Conflict in config with key \"alexnet_caffemodel_path\"\n",
            "[2022/01/13 05:34:26] ERROR (82) config : Conflict in config with key \"gpu\"\n",
            "[2022/01/13 05:34:26] ERROR (82) config : Conflict in config with key \"n_loaders_train\"\n",
            "[2022/01/13 05:34:26] ERROR (82) config : Conflict in config with key \"n_loaders_test\"\n",
            "[2022/01/13 05:34:26] ERROR (82) config : Conflict in config with key \"n_epoch\"\n",
            "[2022/01/13 05:34:26] ERROR (82) config : Conflict in config with key \"batchsize\"\n",
            "[2022/01/13 05:34:26] ERROR (82) config : Conflict in config with key \"port_face\"\n",
            "[2022/01/13 05:34:26] ERROR (82) config : Conflict in config with key \"port_weight\"\n",
            "[2022/01/13 05:34:26] ERROR (82) config : Conflict in config with key \"port_lossgraph\"\n",
            "[2022/01/13 05:34:26] ERROR (82) config : Conflict in config with key \"port_evaluate\"\n",
            "[2022/01/13 05:34:26] ERROR (82) config : Conflict in config with key \"port_demo\"\n",
            "[2022/01/13 05:34:26] ERROR (82) config : Conflict in config with key \"outdir\"\n",
            "[2022/01/13 05:34:26] ERROR (82) config : Conflict in config with key \"outdir_pretrain\"\n",
            "[2022/01/13 05:34:26] INFO (82) __main__ : Define a HyperFace model\n"
          ]
        },
        {
          "output_type": "display_data",
          "data": {
            "image/png": "[encoded data removed]",
            "text/plain": [
              "<PIL.Image.Image image mode=RGB size=227x227 at 0x7F61F0829E50>"
            ]
          },
          "metadata": {}
        },
        {
          "output_type": "stream",
          "name": "stdout",
          "text": [
            "Copy of tv24horas_2021_12_30_19_face1.png\n",
            "\n",
            "\n",
            "\n"
          ]
        },
        {
          "output_type": "stream",
          "name": "stderr",
          "text": [
            "[2022/01/13 05:34:29] DEBUG (82) PIL.PngImagePlugin : STREAM b'IHDR' 16 13\n",
            "[2022/01/13 05:34:29] DEBUG (82) PIL.PngImagePlugin : STREAM b'IDAT' 41 8192\n",
            "[2022/01/13 05:34:29] INFO (82) config : Load config from \"config.json\"\n",
            "[2022/01/13 05:34:29] ERROR (82) config : Conflict in config with key \"aflw_sqlite_path\"\n",
            "[2022/01/13 05:34:29] ERROR (82) config : Conflict in config with key \"aflw_imgdir_path\"\n",
            "[2022/01/13 05:34:29] ERROR (82) config : Conflict in config with key \"aflw_cache_path\"\n",
            "[2022/01/13 05:34:29] ERROR (82) config : Conflict in config with key \"aflw_test_rate\"\n",
            "[2022/01/13 05:34:29] ERROR (82) config : Conflict in config with key \"alexnet_caffemodel_path\"\n",
            "[2022/01/13 05:34:29] ERROR (82) config : Conflict in config with key \"gpu\"\n",
            "[2022/01/13 05:34:29] ERROR (82) config : Conflict in config with key \"n_loaders_train\"\n",
            "[2022/01/13 05:34:29] ERROR (82) config : Conflict in config with key \"n_loaders_test\"\n",
            "[2022/01/13 05:34:29] ERROR (82) config : Conflict in config with key \"n_epoch\"\n",
            "[2022/01/13 05:34:29] ERROR (82) config : Conflict in config with key \"batchsize\"\n",
            "[2022/01/13 05:34:29] ERROR (82) config : Conflict in config with key \"port_face\"\n",
            "[2022/01/13 05:34:29] ERROR (82) config : Conflict in config with key \"port_weight\"\n",
            "[2022/01/13 05:34:29] ERROR (82) config : Conflict in config with key \"port_lossgraph\"\n",
            "[2022/01/13 05:34:29] ERROR (82) config : Conflict in config with key \"port_evaluate\"\n",
            "[2022/01/13 05:34:29] ERROR (82) config : Conflict in config with key \"port_demo\"\n",
            "[2022/01/13 05:34:29] ERROR (82) config : Conflict in config with key \"outdir\"\n",
            "[2022/01/13 05:34:29] ERROR (82) config : Conflict in config with key \"outdir_pretrain\"\n",
            "[2022/01/13 05:34:29] INFO (82) __main__ : Define a HyperFace model\n"
          ]
        },
        {
          "output_type": "display_data",
          "data": {
            "image/png": "[encoded data removed]",
            "text/plain": [
              "<PIL.Image.Image image mode=RGB size=227x227 at 0x7F61E7EEAED0>"
            ]
          },
          "metadata": {}
        },
        {
          "output_type": "stream",
          "name": "stdout",
          "text": [
            "Copy of tv24horas_2021_12_31_05_face1.png\n",
            "\n",
            "\n",
            "\n"
          ]
        }
      ]
    }
  ]
}