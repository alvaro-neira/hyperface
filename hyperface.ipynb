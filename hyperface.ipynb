{
  "nbformat": 4,
  "nbformat_minor": 0,
  "metadata": {
    "colab": {
      "name": "hyperface.ipynb",
      "provenance": [],
      "machine_shape": "hm",
      "collapsed_sections": []
    },
    "kernelspec": {
      "name": "python3",
      "display_name": "Python 3"
    },
    "language_info": {
      "name": "python"
    },
    "accelerator": "GPU"
  },
  "cells": [
    {
      "cell_type": "code",
      "execution_count": 1,
      "metadata": {
        "colab": {
          "base_uri": "https://localhost:8080/"
        },
        "id": "ZlZAJWShOWLP",
        "outputId": "3c8ce165-0a2c-4fdd-cc38-81234d24332d"
      },
      "outputs": [
        {
          "output_type": "stream",
          "name": "stdout",
          "text": [
            "Collecting chainer==7.7.0\n",
            "  Downloading chainer-7.7.0.tar.gz (11.2 MB)\n",
            "\u001b[K     |████████████████████████████████| 11.2 MB 8.0 MB/s \n",
            "\u001b[?25hRequirement already satisfied: setuptools in /usr/local/lib/python3.7/dist-packages (from chainer==7.7.0) (57.4.0)\n",
            "Requirement already satisfied: typing_extensions in /usr/local/lib/python3.7/dist-packages (from chainer==7.7.0) (3.10.0.2)\n",
            "Requirement already satisfied: filelock in /usr/local/lib/python3.7/dist-packages (from chainer==7.7.0) (3.4.2)\n",
            "Requirement already satisfied: numpy>=1.9.0 in /usr/local/lib/python3.7/dist-packages (from chainer==7.7.0) (1.19.5)\n",
            "Requirement already satisfied: protobuf>=3.0.0 in /usr/local/lib/python3.7/dist-packages (from chainer==7.7.0) (3.17.3)\n",
            "Requirement already satisfied: six>=1.9.0 in /usr/local/lib/python3.7/dist-packages (from chainer==7.7.0) (1.15.0)\n",
            "Building wheels for collected packages: chainer\n",
            "  Building wheel for chainer (setup.py) ... \u001b[?25l\u001b[?25hdone\n",
            "  Created wheel for chainer: filename=chainer-7.7.0-py3-none-any.whl size=967522 sha256=ac76c217a8a98307886420269304fc2faece01826c7e8b421f04385851c0f3eb\n",
            "  Stored in directory: /root/.cache/pip/wheels/4f/c2/ca/e46a1181cc92ebe6e2d117a5cd29da5bcfc8464e00edb2cac0\n",
            "Successfully built chainer\n",
            "Installing collected packages: chainer\n",
            "Successfully installed chainer-7.7.0\n"
          ]
        }
      ],
      "source": [
        "!pip install chainer==7.7.0"
      ]
    },
    {
      "cell_type": "code",
      "source": [
        "import chainer"
      ],
      "metadata": {
        "id": "C93GXCDyOxmA"
      },
      "execution_count": 2,
      "outputs": []
    },
    {
      "cell_type": "code",
      "source": [
        "import cv2\n",
        "import csv\n",
        "import os\n",
        "import matplotlib.pyplot as plt\n",
        "from google.colab.patches import cv2_imshow # for image display\n",
        "import numpy as np\n",
        "import pandas as pd\n",
        "from skimage import io\n",
        "from PIL import Image "
      ],
      "metadata": {
        "id": "sQeGoB9yPL0-"
      },
      "execution_count": 3,
      "outputs": []
    },
    {
      "cell_type": "code",
      "source": [
        "from google.colab import drive\n",
        "drive.mount('/content/drive', force_remount=True)"
      ],
      "metadata": {
        "colab": {
          "base_uri": "https://localhost:8080/"
        },
        "id": "hQnkAPqPPhrF",
        "outputId": "94f68244-f33c-4ac2-b243-bde8ac9d0379"
      },
      "execution_count": 4,
      "outputs": [
        {
          "output_type": "stream",
          "name": "stdout",
          "text": [
            "Mounted at /content/drive\n"
          ]
        }
      ]
    },
    {
      "cell_type": "code",
      "source": [
        "%cd /content/\n",
        "!rm -rf hyperface\n",
        "!git clone https://github.com/alvaro-neira/hyperface.git --branch aneira\n",
        "%cd hyperface/\n",
        "!git fetch --all\n",
        "!git pull origin aneira\n"
      ],
      "metadata": {
        "colab": {
          "base_uri": "https://localhost:8080/"
        },
        "id": "JWuS35aWPzhq",
        "outputId": "d33178fa-70f5-45e1-9c95-950a670e5fcb"
      },
      "execution_count": 5,
      "outputs": [
        {
          "output_type": "stream",
          "name": "stdout",
          "text": [
            "/content\n",
            "Cloning into 'hyperface'...\n",
            "remote: Enumerating objects: 256, done.\u001b[K\n",
            "remote: Counting objects: 100% (38/38), done.\u001b[K\n",
            "remote: Compressing objects: 100% (28/28), done.\u001b[K\n",
            "remote: Total 256 (delta 24), reused 21 (delta 9), pack-reused 218\u001b[K\n",
            "Receiving objects: 100% (256/256), 8.32 MiB | 32.78 MiB/s, done.\n",
            "Resolving deltas: 100% (151/151), done.\n",
            "/content/hyperface\n",
            "Fetching origin\n",
            "From https://github.com/alvaro-neira/hyperface\n",
            " * branch            aneira     -> FETCH_HEAD\n",
            "Already up to date.\n"
          ]
        }
      ]
    },
    {
      "cell_type": "code",
      "source": [
        "%cd /content/hyperface/scripts"
      ],
      "metadata": {
        "colab": {
          "base_uri": "https://localhost:8080/"
        },
        "id": "kQwgRqw6QFRd",
        "outputId": "f5e2c91a-bd29-4f48-cbc1-7cee733556c4"
      },
      "execution_count": 6,
      "outputs": [
        {
          "output_type": "stream",
          "name": "stdout",
          "text": [
            "/content/hyperface/scripts\n"
          ]
        }
      ]
    },
    {
      "cell_type": "code",
      "source": [
        "import chainer\n",
        "\n",
        "import cv2\n",
        "import os\n",
        "import numpy as np\n",
        "\n",
        "import config\n",
        "\n",
        "# Disable type check in chainer\n",
        "import models\n",
        "\n",
        "os.environ[\"CHAINER_TYPE_CHECK\"] = \"0\"\n",
        "\n",
        "\n",
        "def _cvt_variable(v):\n",
        "    # Convert from chainer variable\n",
        "    if isinstance(v, chainer.variable.Variable):\n",
        "        v = v.data\n",
        "        if hasattr(v, 'get'):\n",
        "            v = v.get()\n",
        "    return v\n",
        "\n",
        "\n",
        "def short_hyperface(config_path, img_path, model_path):\n",
        "    # Load config\n",
        "    config.load(config_path)\n",
        "\n",
        "    # Define a model\n",
        "    model = models.HyperFaceModel()\n",
        "    model.train = False\n",
        "    model.report = False\n",
        "    model.backward = False\n",
        "\n",
        "    # Initialize model\n",
        "    chainer.serializers.load_npz(model_path, model)\n",
        "\n",
        "    # Setup GPU\n",
        "    if config.gpu >= 0:\n",
        "        chainer.cuda.check_cuda_available()\n",
        "        chainer.cuda.get_device(config.gpu).use()\n",
        "        model.to_gpu()\n",
        "        xp = chainer.cuda.cupy\n",
        "    else:\n",
        "        xp = np\n",
        "\n",
        "    # Load image file\n",
        "    img = cv2.imread(img_path)\n",
        "    if img is None or img.size == 0 or img.shape[0] == 0 or img.shape[1] == 0:\n",
        "        exit()\n",
        "    img = img.astype(np.float32) / 255.0  # [0:1]\n",
        "    img = cv2.resize(img, models.IMG_SIZE)\n",
        "    img = cv2.normalize(img, None, -0.5, 0.5, cv2.NORM_MINMAX)\n",
        "    img = np.transpose(img, (2, 0, 1))\n",
        "\n",
        "    # Create single batch\n",
        "    imgs = xp.asarray([img])\n",
        "    x = chainer.Variable(imgs)  # , volatile=True)\n",
        "\n",
        "    # Forward\n",
        "    y = model(x)\n",
        "\n",
        "    # Chainer.Variable -> np.ndarray\n",
        "    detection = _cvt_variable(y['detection'])\n",
        "    genders = _cvt_variable(y['gender'])\n",
        "\n",
        "    gender = genders[0]\n",
        "\n",
        "    if gender > 0.5:\n",
        "        return f\"Female, detection={detection[0]}\"\n",
        "    else:\n",
        "        return f\"Male, detection={detection[0]}\""
      ],
      "metadata": {
        "id": "2Qc98zu-QQBH"
      },
      "execution_count": 7,
      "outputs": []
    },
    {
      "cell_type": "code",
      "source": [
        "print(short_hyperface('/content/hyperface/scripts/config.json','/content/drive/MyDrive/ai/faces1/tv24horas_2021_12_07_01_face1.png','/content/drive/MyDrive/ai/model_epoch_190'))"
      ],
      "metadata": {
        "id": "WuGpBmQ8QWGo"
      },
      "execution_count": null,
      "outputs": []
    },
    {
      "cell_type": "code",
      "source": [
        "import chainer\n",
        "\n",
        "import cv2\n",
        "import os\n",
        "import numpy as np\n",
        "\n",
        "import config\n",
        "from drawing import draw_pose, draw_gender, draw_detection, draw_landmark\n",
        "import log_initializer\n",
        "import models\n",
        "\n",
        "# logging\n",
        "from logging import getLogger, DEBUG\n",
        "\n",
        "log_initializer.setFmt()\n",
        "log_initializer.setRootLevel(DEBUG)\n",
        "logger = getLogger(__name__)\n",
        "\n",
        "# Disable type check in chainer\n",
        "os.environ[\"CHAINER_TYPE_CHECK\"] = \"0\"\n",
        "\n",
        "\n",
        "def _cvt_variable(v):\n",
        "    # Convert from chainer variable\n",
        "    if isinstance(v, chainer.variable.Variable):\n",
        "        v = v.data\n",
        "        if hasattr(v, 'get'):\n",
        "            v = v.get()\n",
        "    return v\n",
        "\n",
        "\n",
        "def frame_detect(frame):\n",
        "    # Load config\n",
        "    config.load('config.json')\n",
        "\n",
        "    # Define a model\n",
        "    logger.info('Define a HyperFace model')\n",
        "    model = models.HyperFaceModel()\n",
        "    model.train = False\n",
        "    model.report = False\n",
        "    model.backward = False\n",
        "\n",
        "    # Initialize model\n",
        "    chainer.serializers.load_npz('model_epoch_190', model)\n",
        "\n",
        "    xp = np\n",
        "\n",
        "    if frame is None or frame.size == 0 or frame.shape[0] == 0 or frame.shape[1] == 0:\n",
        "        logger.error('Failed to load')\n",
        "        exit()\n",
        "    frame = frame.astype(np.float32) / 255.0  # [0:1]\n",
        "    frame = cv2.resize(frame, models.IMG_SIZE)\n",
        "    frame = cv2.normalize(frame, None, -0.5, 0.5, cv2.NORM_MINMAX)\n",
        "    frame = np.transpose(frame, (2, 0, 1))\n",
        "\n",
        "    # Create single batch\n",
        "    imgs = xp.asarray([frame])\n",
        "    x = chainer.Variable(imgs)  # , volatile=True)\n",
        "\n",
        "    # Forward\n",
        "    logger.info('Forward the network')\n",
        "    y = model(x)\n",
        "\n",
        "    # Chainer.Variable -> np.ndarray\n",
        "    imgs = _cvt_variable(y['img'])\n",
        "    detections = _cvt_variable(y['detection'])\n",
        "    landmarks = _cvt_variable(y['landmark'])\n",
        "    visibilitys = _cvt_variable(y['visibility'])\n",
        "    poses = _cvt_variable(y['pose'])\n",
        "    genders = _cvt_variable(y['gender'])\n",
        "\n",
        "    # Use first data in one batch\n",
        "    frame = imgs[0]\n",
        "    detection = detections[0]\n",
        "    landmark = landmarks[0]\n",
        "    visibility = visibilitys[0]\n",
        "    pose = poses[0]\n",
        "    gender = genders[0]\n",
        "\n",
        "    frame = np.transpose(frame, (1, 2, 0))\n",
        "    frame = frame.copy()\n",
        "    frame += 0.5  # [-0.5:0.5] -> [0:1]\n",
        "    detection = (detection > 0.5)\n",
        "    gender = (gender > 0.5)\n",
        "\n",
        "    # Draw results\n",
        "    draw_detection(frame, detection)\n",
        "    landmark_color = (0, 1, 0) if detection == 1 else (0, 0, 1)\n",
        "    draw_landmark(frame, landmark, visibility, landmark_color, 0.5)\n",
        "    draw_pose(frame, pose)\n",
        "    draw_gender(frame, gender)\n",
        "\n",
        "    # Show image\n",
        "    logger.info('Show the result image')\n",
        "    cv2.imshow('result', frame)\n",
        "    cv2.waitKey(0)\n"
      ],
      "metadata": {
        "id": "JbHl05jhvt9l"
      },
      "execution_count": 11,
      "outputs": []
    },
    {
      "cell_type": "code",
      "source": [
        "%cd /content/hyperface/"
      ],
      "metadata": {
        "colab": {
          "base_uri": "https://localhost:8080/"
        },
        "id": "1DD1fUAozSxg",
        "outputId": "c8bcf098-d535-44fd-e7be-d86be6e67336"
      },
      "execution_count": 12,
      "outputs": [
        {
          "output_type": "stream",
          "name": "stdout",
          "text": [
            "/content/hyperface\n"
          ]
        }
      ]
    },
    {
      "cell_type": "code",
      "source": [
        "for filename in os.listdir(\"/content/drive/MyDrive/ai/faces\"):\n",
        "    if not filename.endswith(\".png\"): \n",
        "        continue\n",
        "    img_path = os.path.join(\"/content/drive/MyDrive/ai/faces\", filename)\n",
        "    image_swapped = io.imread(f\"{img_path}\") \n",
        "    image_2 = cv2.cvtColor(image_swapped, cv2.COLOR_BGR2RGB)\n",
        "    cv2_imshow(image_2)\n",
        "    print(filename)\n",
        "    print(frame_detect(image_2)))\n",
        "    print('\\n\\n') "
      ],
      "metadata": {
        "id": "rR75WAlDQear"
      },
      "execution_count": null,
      "outputs": []
    }
  ]
}